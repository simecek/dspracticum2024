{
 "cells": [
  {
   "cell_type": "markdown",
   "id": "45171c65-2d0b-40cc-9ce5-a4355524d16a",
   "metadata": {},
   "source": [
    "# Time-series Forecasting\n",
    "\n",
    "## 0. Wikipedia Traffic Dataset\n",
    "\n",
    "https://www.kaggle.com/competitions/web-traffic-time-series-forecasting"
   ]
  },
  {
   "cell_type": "code",
   "execution_count": null,
   "id": "21993a9c-7fa0-40ef-80c9-652be41ad0ca",
   "metadata": {},
   "outputs": [],
   "source": [
    "import pandas as pd\n",
    "import numpy as np\n",
    "\n",
    "train = pd.read_pickle(\"train.pkl\").asfreq('D')\n",
    "test = pd.read_pickle(\"test.pkl\").asfreq('D')\n",
    "\n",
    "train"
   ]
  },
  {
   "cell_type": "code",
   "execution_count": null,
   "id": "27e4a202-5f17-442e-9e73-19fa1363f028",
   "metadata": {},
   "outputs": [],
   "source": [
    "test"
   ]
  },
  {
   "cell_type": "markdown",
   "id": "e228802f-f495-4cf5-a0de-2ecbeb80b572",
   "metadata": {},
   "source": [
    "For simplicity reasons, let us just consider pages having at least 20 000 visits per days."
   ]
  },
  {
   "cell_type": "code",
   "execution_count": null,
   "id": "4eae9399-a5ac-4e0d-8d67-33bd07357e52",
   "metadata": {},
   "outputs": [],
   "source": [
    "median_visits = train.median(axis = 0)\n",
    "over20000 = median_visits >= 20_000\n",
    "sum(over20000)"
   ]
  },
  {
   "cell_type": "code",
   "execution_count": null,
   "id": "971b4654-d86d-4633-95cc-f033dceb202f",
   "metadata": {},
   "outputs": [],
   "source": [
    "train_filtered = train.loc[:, over20000].apply(np.log1p).copy()\n",
    "test_filtered = test.loc[:, over20000].apply(np.log1p).copy()"
   ]
  },
  {
   "cell_type": "code",
   "execution_count": null,
   "id": "3cb1fbfe-094f-466e-a3a1-67c9b1244557",
   "metadata": {},
   "outputs": [],
   "source": [
    "train_filtered.shape, test_filtered.shape   "
   ]
  },
  {
   "cell_type": "code",
   "execution_count": null,
   "id": "a24c83fc-af79-4478-9e06-77808ad205d8",
   "metadata": {},
   "outputs": [],
   "source": [
    "train_filtered.columns"
   ]
  },
  {
   "cell_type": "markdown",
   "id": "a6bf3ae8-d289-4c09-9e18-ae6eddbe226f",
   "metadata": {},
   "source": [
    "## 1. Plotting\n",
    "\n",
    "Either select or pick randomly one column - try to plot the time series (training part). You can use `plot_series` from `sktime` package."
   ]
  },
  {
   "cell_type": "code",
   "execution_count": null,
   "id": "d66c33fb-f6dd-443c-b802-f6f564788e7b",
   "metadata": {},
   "outputs": [],
   "source": [
    "import random\n",
    "\n",
    "selected_column = random.choice(train_filtered.columns)\n",
    "\n",
    "selected_column"
   ]
  },
  {
   "cell_type": "code",
   "execution_count": null,
   "id": "d2eba783-1638-47f5-9e72-29260c3fce41",
   "metadata": {},
   "outputs": [],
   "source": [
    "from sktime.utils.plotting import plot_series\n",
    "\n",
    "# YOUR CODE HERE"
   ]
  },
  {
   "cell_type": "markdown",
   "id": "7b336f42-362a-41d7-849a-dc20d0bfdcf6",
   "metadata": {},
   "source": [
    "Now try to plot both time series and the target (testing part)"
   ]
  },
  {
   "cell_type": "code",
   "execution_count": null,
   "id": "2ad1d47a-8edc-49ee-841d-909bc0b0a455",
   "metadata": {},
   "outputs": [],
   "source": [
    "# YOUR CODE HERE"
   ]
  },
  {
   "cell_type": "markdown",
   "id": "528cae1f-c87d-43da-b92c-e22897bb5304",
   "metadata": {},
   "source": [
    "## 2. Naive Forecasting\n",
    "\n",
    "Let us start with a naive forecaster. "
   ]
  },
  {
   "cell_type": "code",
   "execution_count": null,
   "id": "ebb6493f-8e2c-4f1c-9937-02d47a5358b2",
   "metadata": {},
   "outputs": [],
   "source": [
    "from sktime.forecasting.naive import NaiveForecaster\n",
    "\n",
    "fh = np.arange(3, 65)  # forecasting horizon, day 3 - day 65 after training\n",
    "\n",
    "forecaster = NaiveForecaster(strategy=\"mean\")"
   ]
  },
  {
   "cell_type": "code",
   "execution_count": null,
   "id": "06b52c88-e1f9-4fc4-a88d-b7b4e4895379",
   "metadata": {},
   "outputs": [],
   "source": [
    "forecaster.fit(train_filtered[selected_column])"
   ]
  },
  {
   "cell_type": "code",
   "execution_count": null,
   "id": "87542d83-616a-42db-8a51-d07cc5440a1f",
   "metadata": {},
   "outputs": [],
   "source": [
    "prediction = forecaster.predict(fh)"
   ]
  },
  {
   "cell_type": "code",
   "execution_count": null,
   "id": "8fe06056-155d-4596-8600-844a2e8cab6d",
   "metadata": {},
   "outputs": [],
   "source": [
    "plot_series(train_filtered[selected_column], test_filtered[selected_column], prediction);"
   ]
  },
  {
   "cell_type": "markdown",
   "id": "279b3b44-5dd2-4ac9-8da1-d4bfa25bbd08",
   "metadata": {},
   "source": [
    "Now instead of average, try to repeat last week forever to the future (set `strategy` to `last` and period length `sp` to 7)"
   ]
  },
  {
   "cell_type": "code",
   "execution_count": null,
   "id": "a68379f9-eaf4-4543-8f61-7dab887b40af",
   "metadata": {},
   "outputs": [],
   "source": [
    "# YOUR CODE HERE"
   ]
  },
  {
   "cell_type": "markdown",
   "id": "c03a583d-c355-4fbf-883d-cbfd7c62fdb1",
   "metadata": {},
   "source": [
    "## 3. SMAPE\n",
    "\n",
    "Kaggle competition used [symmetric mean absolute percentage error](https://en.wikipedia.org/wiki/Symmetric_mean_absolute_percentage_error) (SMAPE) for evaluation. Calculate smape between your forecast and actual values."
   ]
  },
  {
   "cell_type": "code",
   "execution_count": null,
   "id": "05b2df8a-1bb8-423c-9982-579acfff7cd3",
   "metadata": {},
   "outputs": [],
   "source": [
    "def smape(y_true, y_pred):\n",
    "    ## YOUR CODE HERE"
   ]
  },
  {
   "cell_type": "code",
   "execution_count": null,
   "id": "3f91f134-1665-4d0c-8516-387a3e856a0b",
   "metadata": {},
   "outputs": [],
   "source": [
    "smape(test_filtered[selected_column], prediction)"
   ]
  },
  {
   "cell_type": "markdown",
   "id": "caf307a9-4dba-4b77-8033-1e273ddeb511",
   "metadata": {},
   "source": [
    "## 4. Forecasing Methods\n",
    "\n",
    "Look through `sktime` [list of forecasting methods](https://www.sktime.net/en/stable/examples/01_forecasting.html#2.-Forecasters-in-sktime---lookup,-properties,-main-families).\n",
    "\n",
    "Try a few of them (docs contain examples how to use them, e.g. see [TBATS](https://www.sktime.net/en/latest/api_reference/auto_generated/sktime.forecasting.tbats.TBATS.html) code below). Which prediction is the best (minimize SMAPE metric)"
   ]
  },
  {
   "cell_type": "code",
   "execution_count": null,
   "id": "7a26f4ac-68aa-4dfd-b33c-17bfc8fb9b5e",
   "metadata": {},
   "outputs": [],
   "source": [
    "from sktime.forecasting.tbats import TBATS\n",
    "\n",
    "forecaster = TBATS(  \n",
    "    use_box_cox=False,\n",
    "    use_trend=False,\n",
    "    use_damped_trend=False,\n",
    "    sp=7,\n",
    "    use_arma_errors=False,\n",
    "    n_jobs=1)"
   ]
  },
  {
   "cell_type": "code",
   "execution_count": null,
   "id": "3d9bee49-f607-44b6-a7da-83166cad011b",
   "metadata": {},
   "outputs": [],
   "source": [
    "## YOUR CODE HERE"
   ]
  },
  {
   "cell_type": "code",
   "execution_count": null,
   "id": "05e8a247-b012-4583-91f4-83b015a85f47",
   "metadata": {},
   "outputs": [],
   "source": [
    "forecaster.fit(train_filtered[selected_column])\n",
    "prediction = forecaster.predict(fh)"
   ]
  },
  {
   "cell_type": "code",
   "execution_count": null,
   "id": "ff0a2c1b-5fee-4f68-9f0c-430808f224a3",
   "metadata": {},
   "outputs": [],
   "source": [
    "plot_series(train_filtered[selected_column], test_filtered[selected_column], prediction);"
   ]
  },
  {
   "cell_type": "code",
   "execution_count": null,
   "id": "1a2d85ef-6863-40b4-9350-1dfc5ac0aae9",
   "metadata": {},
   "outputs": [],
   "source": [
    "smape(test_filtered[selected_column], prediction)"
   ]
  },
  {
   "cell_type": "markdown",
   "id": "4e275e63-a4cb-4aba-8406-8e09a5a9ed59",
   "metadata": {},
   "source": [
    "## 5. Prophet\n",
    "\n",
    "[Prophet](https://facebook.github.io/prophet/) is (was?) Meta's tool for time series forecasting (easy handling of anomalies, common seasonalities and holidays)."
   ]
  },
  {
   "cell_type": "code",
   "execution_count": null,
   "id": "4e267d20-9cf2-4a6e-933d-42b1c275ce42",
   "metadata": {},
   "outputs": [],
   "source": [
    "from sktime.forecasting.fbprophet import Prophet\n",
    "\n",
    "## YOUR CODE HERE"
   ]
  },
  {
   "cell_type": "code",
   "execution_count": null,
   "id": "4732e624-2356-4502-8d6b-b267686c1503",
   "metadata": {},
   "outputs": [],
   "source": [
    "forecaster.fit(train_filtered[selected_column])\n",
    "prediction = forecaster.predict(fh)"
   ]
  },
  {
   "cell_type": "code",
   "execution_count": null,
   "id": "513a1eba-bb7a-423c-9d24-734bb5648f4b",
   "metadata": {},
   "outputs": [],
   "source": [
    "plot_series(train_filtered[selected_column], test_filtered[selected_column], prediction);"
   ]
  },
  {
   "cell_type": "code",
   "execution_count": null,
   "id": "c79d09e5-cc11-4cbd-8bba-423479c6ff4f",
   "metadata": {},
   "outputs": [],
   "source": [
    "smape(test_filtered[selected_column], prediction)"
   ]
  },
  {
   "cell_type": "markdown",
   "id": "0c66e798-c5c1-43b7-bf20-9a2c507728c8",
   "metadata": {},
   "source": [
    "## 6. Time Series Foundation Models"
   ]
  },
  {
   "cell_type": "code",
   "execution_count": null,
   "id": "7f4e61b2-3ca5-4c9d-958e-02e5e0ca153a",
   "metadata": {},
   "outputs": [],
   "source": [
    "from sktime.forecasting.moirai_forecaster import MOIRAIForecaster\n",
    "\n",
    "## YOUR CODE HERE"
   ]
  },
  {
   "cell_type": "code",
   "execution_count": null,
   "id": "694197eb-e4ec-4b24-80f3-51b66692978f",
   "metadata": {},
   "outputs": [],
   "source": [
    "forecaster.fit(train_filtered[selected_column])\n",
    "prediction = forecaster.predict(fh)"
   ]
  },
  {
   "cell_type": "code",
   "execution_count": null,
   "id": "15d15a0e-7dd9-43e2-94a9-06b4ff67c695",
   "metadata": {},
   "outputs": [],
   "source": [
    "plot_series(train_filtered[selected_column], test_filtered[selected_column], prediction);"
   ]
  },
  {
   "cell_type": "code",
   "execution_count": null,
   "id": "c0469a0d-4d2b-4603-95d8-4dab003cd011",
   "metadata": {},
   "outputs": [],
   "source": []
  }
 ],
 "metadata": {
  "kernelspec": {
   "display_name": "Python 3",
   "language": "python",
   "name": "python3"
  },
  "language_info": {
   "codemirror_mode": {
    "name": "ipython",
    "version": 3
   },
   "file_extension": ".py",
   "mimetype": "text/x-python",
   "name": "python",
   "nbconvert_exporter": "python",
   "pygments_lexer": "ipython3",
   "version": "3.10.10"
  }
 },
 "nbformat": 4,
 "nbformat_minor": 5
}
