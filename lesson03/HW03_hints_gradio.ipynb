{
 "cells": [
  {
   "cell_type": "markdown",
   "id": "d253cf9b-d1df-497f-b4da-0198b09eee13",
   "metadata": {},
   "source": [
    "# HW03 Gradio app"
   ]
  },
  {
   "cell_type": "code",
   "execution_count": null,
   "id": "5b4233c6-048b-4c4b-8dc6-b2a993bfdb6d",
   "metadata": {},
   "outputs": [],
   "source": [
    "# run in colab\n",
    "# !pip install -qq gradio"
   ]
  },
  {
   "cell_type": "markdown",
   "id": "0f2a4dec-9d17-444f-883c-68f67ff25af9",
   "metadata": {},
   "source": [
    "## Load the model to CPU"
   ]
  },
  {
   "cell_type": "code",
   "execution_count": null,
   "id": "51471823-d010-4db1-b842-25768d1b4732",
   "metadata": {},
   "outputs": [],
   "source": [
    "from fastai.vision.all import *\n",
    "from pathlib import Path\n",
    "\n",
    "# Load the model\n",
    "learn = load_learner('./model.pkl')"
   ]
  },
  {
   "cell_type": "markdown",
   "id": "858f17c1-39aa-4d74-b9d7-ab45036605cc",
   "metadata": {},
   "source": [
    "## Test it on some image"
   ]
  },
  {
   "cell_type": "code",
   "execution_count": null,
   "id": "8fe7954e-e4c1-479b-b1f2-958ce14ea453",
   "metadata": {},
   "outputs": [],
   "source": [
    "# Provide the path to the new image\n",
    "# TODO\n",
    "image_path = Path('## PATH TO SOME IMAGE ##')\n",
    "\n",
    "# Predict the class of the new image\n",
    "prediction, prediction_idx, probabilities = learn.predict(image_path)\n",
    "\n",
    "# Print the prediction result\n",
    "print(f'Prediction: {prediction}')\n",
    "print(f'Index of the predicted class: {prediction_idx}')\n",
    "print(f'Probabilities: {probabilities}')"
   ]
  },
  {
   "cell_type": "markdown",
   "id": "fade4146-3ff2-4a45-85bb-a12858ea4f2e",
   "metadata": {},
   "source": [
    "## Run gradio locally\n",
    "\n",
    "Run the cell below to run gradio "
   ]
  },
  {
   "cell_type": "code",
   "execution_count": null,
   "id": "8a63ba1b-7f45-48ed-8912-b133027f1171",
   "metadata": {},
   "outputs": [],
   "source": [
    "import gradio as gr  # Importing Gradio for creating the web interface\n",
    "import timm  # Importing timm for model management\n",
    "\n",
    "# Extract categories (class labels) from the DataLoader\n",
    "categories = learn.dls.vocab\n",
    "\n",
    "# Function to classify an image\n",
    "def classify_image(img):\n",
    "    pred, idx, probs = learn.predict(img)\n",
    "    return dict(zip(categories, map(float, probs)))  # Map categories to their probabilities\n",
    "\n",
    "# Define Gradio input and output components using the updated API\n",
    "image = gr.Image(width=224, height=224)  # Image input with fixed shape\n",
    "label = gr.Label()  # Output label to display classification\n",
    "examples = []  # Path to image(s) for demonstration\n",
    "\n",
    "# Create and launch the Gradio interface\n",
    "intf = gr.Interface(fn=classify_image, inputs=image, outputs=label, examples=examples)\n",
    "intf.launch(share=True)"
   ]
  },
  {
   "cell_type": "markdown",
   "id": "83965dc8-fd60-4462-87c4-96c3554960f3",
   "metadata": {},
   "source": [
    "## Deploy gradio app to 🤗 space\n",
    "\n",
    "First of all, create a free [🤗 account](https://huggingface.co/) and log into it. In the top left corner, click on the button **\"NEW\"**, select **Space** and fill in a short form (Space SDK should be *Gradio* and the space must be *Public*). When your new space is created, select **Files** tab (top right corner). Now you can add files into your space, you should add:\n",
    "\n",
    "  1. `model.pkl`: your model (trained in the previous notebook)\n",
    "  2. `requirements.txt`: list of the packages needed to run the space\n",
    "  3. `app.py`: the app itself\n",
    "  4. `test_image1.jpg`, `test_image2.jpg`: (optional) images to test the app\n",
    "\n",
    "Except `model.pkl`, you can get those files from https://github.com/simecek/dspracticum2024/tree/main/lesson03. Be sure to upload you `model.pkl`, do not forget to check `app.py` (also modify `test_image1.jpg`, `test_image2.jpg`)\n",
    "\n",
    "When the file files are uploaded, the app will start building (see status *Building*, then *Starting*, then *Running*). When building is done, just select **App** tab (next to **Files** tab) and you should see the app running. It should look similarly to https://huggingface.co/spaces/simecek/teaching_img_classifier."
   ]
  }
 ],
 "metadata": {
  "kernelspec": {
   "display_name": "Python 3",
   "language": "python",
   "name": "python3"
  },
  "language_info": {
   "codemirror_mode": {
    "name": "ipython",
    "version": 3
   },
   "file_extension": ".py",
   "mimetype": "text/x-python",
   "name": "python",
   "nbconvert_exporter": "python",
   "pygments_lexer": "ipython3",
   "version": "3.10.10"
  }
 },
 "nbformat": 4,
 "nbformat_minor": 5
}
