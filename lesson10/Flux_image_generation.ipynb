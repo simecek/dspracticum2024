{
 "cells": [
  {
   "cell_type": "code",
   "execution_count": 1,
   "id": "a7365366-0693-40a2-87e8-45094c5d0f54",
   "metadata": {},
   "outputs": [],
   "source": [
    "import torch\n",
    "from diffusers import FluxPipeline"
   ]
  },
  {
   "cell_type": "code",
   "id": "91be4f57-65c8-4651-be4c-86a39fe1fcae",
   "metadata": {},
   "source": [
    "from huggingface_hub import notebook_login\n",
    "\n",
    "notebook_login()"
   ],
   "outputs": [],
   "execution_count": null
  },
  {
   "cell_type": "code",
   "id": "c3e57034-252c-4844-9e2e-f21cd88716b6",
   "metadata": {},
   "source": [
    "pipe = FluxPipeline.from_pretrained(\"black-forest-labs/FLUX.1-dev\", torch_dtype=torch.bfloat16)\n",
    "pipe.enable_model_cpu_offload()"
   ],
   "outputs": [],
   "execution_count": null
  },
  {
   "cell_type": "code",
   "id": "a4ed13bb-d8ce-4dd6-8cf2-58eca2449201",
   "metadata": {},
   "source": [
    "prompt = \"dragon riding a bike, drawing\"\n",
    "out = pipe(\n",
    "    prompt=prompt,\n",
    "    guidance_scale=3.5,\n",
    "    height=240,\n",
    "    width=320,\n",
    "    num_inference_steps=50,\n",
    ").images[0]\n",
    "out.save(\"image.png\")"
   ],
   "outputs": [],
   "execution_count": null
  }
 ],
 "metadata": {
  "kernelspec": {
   "display_name": "Python [conda env:flux]",
   "language": "python",
   "name": "conda-env-flux-py"
  },
  "language_info": {
   "codemirror_mode": {
    "name": "ipython",
    "version": 3
   },
   "file_extension": ".py",
   "mimetype": "text/x-python",
   "name": "python",
   "nbconvert_exporter": "python",
   "pygments_lexer": "ipython3",
   "version": "3.12.3"
  }
 },
 "nbformat": 4,
 "nbformat_minor": 5
}
