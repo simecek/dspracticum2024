{
 "cells": [
  {
   "cell_type": "code",
   "execution_count": 8,
   "id": "d646a13c-cbd8-4e6c-994b-da4f45634e9e",
   "metadata": {},
   "outputs": [],
   "source": [
    "from transformers import BertForMaskedLM, BertModel, BertTokenizer, pipeline"
   ]
  },
  {
   "cell_type": "markdown",
   "id": "a4c4aa13-1e20-4c2b-93ab-09a4b63f001b",
   "metadata": {},
   "source": [
    "## ProtBERT Protein Language Model"
   ]
  },
  {
   "cell_type": "code",
   "execution_count": 2,
   "id": "d30fcf57-05f3-4775-ba14-eff40e3dc48b",
   "metadata": {},
   "outputs": [
    {
     "data": {
      "application/vnd.jupyter.widget-view+json": {
       "model_id": "a44129f9ffd14199acde184e1cce8cd4",
       "version_major": 2,
       "version_minor": 0
      },
      "text/plain": [
       "Downloading:   0%|          | 0.00/81.0 [00:00<?, ?B/s]"
      ]
     },
     "metadata": {},
     "output_type": "display_data"
    },
    {
     "data": {
      "application/vnd.jupyter.widget-view+json": {
       "model_id": "df8391df7b724c1e83c17e6ffe15c620",
       "version_major": 2,
       "version_minor": 0
      },
      "text/plain": [
       "Downloading:   0%|          | 0.00/112 [00:00<?, ?B/s]"
      ]
     },
     "metadata": {},
     "output_type": "display_data"
    },
    {
     "data": {
      "application/vnd.jupyter.widget-view+json": {
       "model_id": "2150e5da85d24528b283c5ea5d507d74",
       "version_major": 2,
       "version_minor": 0
      },
      "text/plain": [
       "Downloading:   0%|          | 0.00/86.0 [00:00<?, ?B/s]"
      ]
     },
     "metadata": {},
     "output_type": "display_data"
    },
    {
     "data": {
      "application/vnd.jupyter.widget-view+json": {
       "model_id": "26af71f54ca040b88f5c319eb8bef563",
       "version_major": 2,
       "version_minor": 0
      },
      "text/plain": [
       "Downloading:   0%|          | 0.00/361 [00:00<?, ?B/s]"
      ]
     },
     "metadata": {},
     "output_type": "display_data"
    }
   ],
   "source": [
    "tokenizer = BertTokenizer.from_pretrained(\"Rostlab/prot_bert\", do_lower_case=False)"
   ]
  },
  {
   "cell_type": "code",
   "execution_count": 3,
   "id": "009a4f06-4368-45b1-b7a9-e50b67671fa2",
   "metadata": {},
   "outputs": [
    {
     "data": {
      "application/vnd.jupyter.widget-view+json": {
       "model_id": "280a4e8d1a49409f827661e08d02ebd8",
       "version_major": 2,
       "version_minor": 0
      },
      "text/plain": [
       "Downloading:   0%|          | 0.00/1.68G [00:00<?, ?B/s]"
      ]
     },
     "metadata": {},
     "output_type": "display_data"
    },
    {
     "name": "stderr",
     "output_type": "stream",
     "text": [
      "Some weights of the model checkpoint at Rostlab/prot_bert were not used when initializing BertForMaskedLM: ['cls.seq_relationship.bias', 'cls.seq_relationship.weight']\n",
      "- This IS expected if you are initializing BertForMaskedLM from the checkpoint of a model trained on another task or with another architecture (e.g. initializing a BertForSequenceClassification model from a BertForPreTraining model).\n",
      "- This IS NOT expected if you are initializing BertForMaskedLM from the checkpoint of a model that you expect to be exactly identical (initializing a BertForSequenceClassification model from a BertForSequenceClassification model).\n"
     ]
    }
   ],
   "source": [
    "model = BertForMaskedLM.from_pretrained(\"Rostlab/prot_bert\")"
   ]
  },
  {
   "cell_type": "markdown",
   "id": "261da207-a1fc-4bd1-ac27-c593980ae88a",
   "metadata": {},
   "source": [
    "### prediction of MASKed token"
   ]
  },
  {
   "cell_type": "code",
   "execution_count": 7,
   "id": "289c62d0-be13-4e94-8e81-824ddbcac20a",
   "metadata": {},
   "outputs": [
    {
     "data": {
      "text/plain": [
       "[{'score': 0.10394349694252014,\n",
       "  'token': 6,\n",
       "  'token_str': 'A',\n",
       "  'sequence': 'M V L S P A D K T N V K A A W G K V G A H A G E Y'},\n",
       " {'score': 0.0907510295510292,\n",
       "  'token': 12,\n",
       "  'token_str': 'K',\n",
       "  'sequence': 'M V L S P A D K T N V K K A W G K V G A H A G E Y'},\n",
       " {'score': 0.07521520555019379,\n",
       "  'token': 8,\n",
       "  'token_str': 'V',\n",
       "  'sequence': 'M V L S P A D K T N V K V A W G K V G A H A G E Y'},\n",
       " {'score': 0.06997817009687424,\n",
       "  'token': 5,\n",
       "  'token_str': 'L',\n",
       "  'sequence': 'M V L S P A D K T N V K L A W G K V G A H A G E Y'},\n",
       " {'score': 0.06744708865880966,\n",
       "  'token': 7,\n",
       "  'token_str': 'G',\n",
       "  'sequence': 'M V L S P A D K T N V K G A W G K V G A H A G E Y'}]"
      ]
     },
     "execution_count": 7,
     "metadata": {},
     "output_type": "execute_result"
    }
   ],
   "source": [
    "unmasker = pipeline('fill-mask', model=model, tokenizer=tokenizer)\n",
    "# original sequence\n",
    "#         M V L S P A D K T N V K   A    A W G K V G A H A G E Y\n",
    "unmasker('M V L S P A D K T N V K [MASK] A W G K V G A H A G E Y')"
   ]
  },
  {
   "cell_type": "markdown",
   "id": "eda5fc98-ab56-4f23-9712-74e633aefea2",
   "metadata": {},
   "source": [
    "### Get embeddings"
   ]
  },
  {
   "cell_type": "code",
   "execution_count": 18,
   "id": "c564efdc-995e-43fc-a121-3b97b41ae1d8",
   "metadata": {},
   "outputs": [
    {
     "name": "stderr",
     "output_type": "stream",
     "text": [
      "Some weights of the model checkpoint at Rostlab/prot_bert were not used when initializing BertModel: ['cls.seq_relationship.bias', 'cls.predictions.transform.dense.bias', 'cls.predictions.decoder.weight', 'cls.predictions.transform.LayerNorm.bias', 'cls.predictions.transform.LayerNorm.weight', 'cls.predictions.bias', 'cls.predictions.transform.dense.weight', 'cls.seq_relationship.weight', 'cls.predictions.decoder.bias']\n",
      "- This IS expected if you are initializing BertModel from the checkpoint of a model trained on another task or with another architecture (e.g. initializing a BertForSequenceClassification model from a BertForPreTraining model).\n",
      "- This IS NOT expected if you are initializing BertModel from the checkpoint of a model that you expect to be exactly identical (initializing a BertForSequenceClassification model from a BertForSequenceClassification model).\n"
     ]
    }
   ],
   "source": [
    "sequence = \"M V L S P A D K T N V K A A W G K V G A H A G E Y\"\n",
    "model = BertModel.from_pretrained(\"Rostlab/prot_bert\")\n",
    "encoded_input = tokenizer(sequence, return_tensors='pt')\n",
    "output = model(**encoded_input)"
   ]
  },
  {
   "cell_type": "code",
   "execution_count": 31,
   "id": "add7c992-581f-487c-b148-e5e0ea9da850",
   "metadata": {},
   "outputs": [
    {
     "data": {
      "text/plain": [
       "tensor([[ 1.1234e-01,  3.8124e-02,  4.5919e-02,  ..., -4.7524e-02,\n",
       "         -3.0284e-02,  2.1404e-02],\n",
       "        [ 1.0622e-01,  8.6489e-02,  1.3534e-01,  ...,  2.9468e-02,\n",
       "         -9.1207e-02, -1.0648e-01],\n",
       "        [ 1.4300e-02, -2.4049e-02,  9.7432e-02,  ..., -3.1925e-02,\n",
       "          3.6396e-02,  1.0129e-01],\n",
       "        ...,\n",
       "        [ 1.8457e-01, -2.3567e-02,  1.0809e-02,  ...,  6.4580e-02,\n",
       "         -1.7176e-01,  7.9359e-02],\n",
       "        [ 1.5196e-01,  2.1889e-02,  2.6714e-02,  ...,  9.3726e-02,\n",
       "          7.4341e-03,  1.4771e-01],\n",
       "        [ 1.3322e-01,  4.9643e-02,  4.4365e-02,  ..., -4.4930e-02,\n",
       "         -4.8270e-02,  6.1550e-05]], grad_fn=<SelectBackward0>)"
      ]
     },
     "execution_count": 31,
     "metadata": {},
     "output_type": "execute_result"
    }
   ],
   "source": [
    "embeddings = output.last_hidden_state\n",
    "embeddings[0, :27]"
   ]
  },
  {
   "cell_type": "code",
   "execution_count": 25,
   "id": "59ab6848-f16e-4e62-aa0d-dd99909c307e",
   "metadata": {},
   "outputs": [
    {
     "data": {
      "text/plain": [
       "torch.Size([27, 1024])"
      ]
     },
     "execution_count": 25,
     "metadata": {},
     "output_type": "execute_result"
    }
   ],
   "source": [
    "embeddings.size()"
   ]
  },
  {
   "cell_type": "code",
   "execution_count": 26,
   "id": "a9cd61d9-75a3-4d1b-aa96-fbdf55d02d57",
   "metadata": {},
   "outputs": [
    {
     "data": {
      "text/plain": [
       "tensor([ 0.1047,  0.0174,  0.0590,  ..., -0.0019, -0.0286,  0.0559],\n",
       "       grad_fn=<MeanBackward1>)"
      ]
     },
     "execution_count": 26,
     "metadata": {},
     "output_type": "execute_result"
    }
   ],
   "source": [
    "embeddings[0].mean(dim=0)"
   ]
  },
  {
   "cell_type": "code",
   "execution_count": 27,
   "id": "6768a5ed-a4dc-4aa6-bfe6-af40b0989f05",
   "metadata": {},
   "outputs": [
    {
     "data": {
      "text/plain": [
       "torch.Size([1024])"
      ]
     },
     "execution_count": 27,
     "metadata": {},
     "output_type": "execute_result"
    }
   ],
   "source": [
    "embeddings[0].mean(dim=0).size()"
   ]
  },
  {
   "cell_type": "code",
   "execution_count": null,
   "id": "0c2110b1-1dfb-4932-a084-f14a83d7ce32",
   "metadata": {},
   "outputs": [],
   "source": []
  }
 ],
 "metadata": {
  "kernelspec": {
   "display_name": "Python [conda env:knots_ML]",
   "language": "python",
   "name": "conda-env-knots_ML-py"
  },
  "language_info": {
   "codemirror_mode": {
    "name": "ipython",
    "version": 3
   },
   "file_extension": ".py",
   "mimetype": "text/x-python",
   "name": "python",
   "nbconvert_exporter": "python",
   "pygments_lexer": "ipython3",
   "version": "3.8.16"
  }
 },
 "nbformat": 4,
 "nbformat_minor": 5
}
