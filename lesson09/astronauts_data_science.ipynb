{
 "nbformat": 4,
 "nbformat_minor": 0,
 "metadata": {
  "colab": {
   "provenance": []
  },
  "kernelspec": {
   "name": "python3",
   "display_name": "Python 3 (ipykernel)",
   "language": "python"
  },
  "language_info": {
   "name": "python"
  }
 },
 "cells": [
  {
   "cell_type": "markdown",
   "source": [
    "# Data Preparation\n",
    "\n",
    "Dataset: https://www.kaggle.com/datasets/nasa/astronaut-yearbook/data\n",
    "\n",
    "<a href=\"https://colab.research.google.com/github/simecek/dspracticum2024/tree/main/lesson09/astronauts_data_science.ipynb\" target=\"_parent\"><img src=\"https://colab.research.google.com/assets/colab-badge.svg\" alt=\"Open In Colab\"/></a>\n",
    "\n"
   ],
   "metadata": {
    "id": "5eSCRESAQ91E"
   }
  },
  {
   "cell_type": "markdown",
   "source": "### Download the dataset:",
   "metadata": {
    "id": "MToQ42srNsK-"
   }
  },
  {
   "cell_type": "code",
   "source": [
    "import os\n",
    "\n",
    "os.environ['KAGGLE_USERNAME'] = 'evaklimentov'\n",
    "os.environ['KAGGLE_KEY'] = '2a5363f316b3cce3414b917f4f888067'\n",
    "\n",
    "!kaggle datasets download -d nasa/astronaut-yearbook -p {'.'}"
   ],
   "metadata": {
    "colab": {
     "base_uri": "https://localhost:8080/"
    },
    "id": "4YeIlEPGM7wU",
    "outputId": "dc82995f-a4a0-4da9-8aa9-a0150c4917be"
   },
   "outputs": [],
   "execution_count": null
  },
  {
   "cell_type": "code",
   "source": [
    "import zipfile\n",
    "\n",
    "dataset_path = './'\n",
    "\n",
    "with zipfile.ZipFile('astronaut-yearbook.zip', 'r') as zip_ref:\n",
    "    zip_ref.extractall(dataset_path)"
   ],
   "metadata": {
    "id": "vgdQ35d4Nrbx",
    "ExecuteTime": {
     "end_time": "2024-11-22T13:20:19.327619Z",
     "start_time": "2024-11-22T13:20:19.315467Z"
    }
   },
   "outputs": [],
   "execution_count": 3
  },
  {
   "cell_type": "code",
   "source": [
    "import pandas as pd\n",
    "\n",
    "csv_filepath = 'astronauts.csv'\n",
    "df = pd.read_csv(csv_filepath)\n",
    "df"
   ],
   "metadata": {
    "id": "fOrYbdUbO7dI"
   },
   "outputs": [],
   "execution_count": null
  },
  {
   "cell_type": "markdown",
   "source": [
    "## 0. Data Exploration\n",
    "\n",
    "- get insights to your dataset (you can laso look at the original dataset description at https://www.kaggle.com/datasets/nasa/astronaut-yearbook/data)\n"
   ],
   "metadata": {
    "id": "FngOS-5aMiSo"
   }
  },
  {
   "cell_type": "code",
   "source": [
    "# TODO: get insight into your dataset, use functions as\n",
    "# df.describe(), df.info()\n",
    "# and answer the next questions:"
   ],
   "metadata": {},
   "outputs": [],
   "execution_count": null
  },
  {
   "cell_type": "markdown",
   "source": [
    "What is the Gender ratio?"
   ],
   "metadata": {
    "id": "BQo5BTJXRwA4"
   }
  },
  {
   "cell_type": "code",
   "source": "# TODO: count distinct values of values in the 'Gender' column and display the result (e.g. as a pie chart)",
   "metadata": {
    "id": "sn1ye3RQR1TS"
   },
   "outputs": [],
   "execution_count": null
  },
  {
   "cell_type": "markdown",
   "source": [
    "Plot histogram of values of one feature (1 column):"
   ],
   "metadata": {
    "id": "Mrw3WEgjSMmE"
   }
  },
  {
   "cell_type": "code",
   "source": [
    "import seaborn as sns\n",
    "\n",
    "# TODO\n",
    "# hint: use sns.histplot()"
   ],
   "metadata": {
    "id": "3zS5Z01ySAab"
   },
   "outputs": [],
   "execution_count": null
  },
  {
   "cell_type": "markdown",
   "source": [
    "Was somebody on more than one `Mission`s?\n",
    "\n",
    "(hint: Missions would be separated by a comma.)"
   ],
   "metadata": {
    "id": "ry7r7Abix39u"
   }
  },
  {
   "cell_type": "code",
   "source": "# TODO: parse the information in 'Mission' column and count the number of missions, then filter based on that number",
   "metadata": {
    "id": "QGYLnQYnSPkj"
   },
   "outputs": [],
   "execution_count": null
  },
  {
   "cell_type": "markdown",
   "source": [
    "## 1. Data Cleaning"
   ],
   "metadata": {
    "id": "QKIla1kWJVNm"
   }
  },
  {
   "cell_type": "markdown",
   "source": "**Look for duplicites:**",
   "metadata": {
    "id": "SevD-LJtRAhf"
   }
  },
  {
   "cell_type": "code",
   "source": "# hint: use df.duplicated()",
   "metadata": {
    "id": "3MpxtSyuIdBt"
   },
   "outputs": [],
   "execution_count": null
  },
  {
   "cell_type": "markdown",
   "source": [
    "We can also look for duplicites only w.r.t. to one feature and not the entire sample (row):"
   ],
   "metadata": {
    "id": "5s4sGY1lZvpG"
   }
  },
  {
   "cell_type": "code",
   "source": "df.loc[df.duplicated(['Birth Date'], keep=False)]",
   "metadata": {
    "id": "YNCBpUEUZFH_"
   },
   "outputs": [],
   "execution_count": null
  },
  {
   "cell_type": "code",
   "source": "# TODO: are there any duplicates we should be concerned about?",
   "metadata": {
    "id": "AyRkbeQ-U7NC"
   },
   "outputs": [],
   "execution_count": null
  },
  {
   "metadata": {},
   "cell_type": "markdown",
   "source": "**Check for inconsistencies:**"
  },
  {
   "metadata": {},
   "cell_type": "code",
   "source": "# TODO are there any relations between the columns that should hold?",
   "outputs": [],
   "execution_count": null
  },
  {
   "cell_type": "markdown",
   "source": "**Missing data:**",
   "metadata": {
    "id": "PV5NjSZ3RAka"
   }
  },
  {
   "cell_type": "code",
   "source": [
    "df.info()"
   ],
   "metadata": {
    "id": "xOW_BjasIdfy"
   },
   "outputs": [],
   "execution_count": null
  },
  {
   "cell_type": "markdown",
   "source": [
    "We can see that we have sone Null values in columns `Year`, `Group`, `Alma Mater`, `Undergraduate Major`, `Graduate Major`, `Undergraduate Major`, `Graduate Major`, `Military Rank`, `Military Branch`, `Missions`, `Death Date`, and `Death Mission`.\n",
    "\n"
   ],
   "metadata": {
    "id": "brQdZEFLsZzH"
   }
  },
  {
   "cell_type": "code",
   "source": [
    "# TODO: check few samples from our dataset with the missing value - how are we going to handle it?\n",
    "df[pd.isna(df['Group'])]"
   ],
   "metadata": {
    "id": "-Ho2Ll_qsWFi"
   },
   "outputs": [],
   "execution_count": null
  },
  {
   "cell_type": "markdown",
   "source": [
    "Leave the missing value as it is for these features:\n",
    "\n",
    "*(here the fact that the value is missing indicates an important sample property)*"
   ],
   "metadata": {
    "id": "TXruhBaG4TnE"
   }
  },
  {
   "cell_type": "code",
   "source": "df['Group'] = df['Group'].fillna('None')",
   "metadata": {},
   "outputs": [],
   "execution_count": null
  },
  {
   "metadata": {
    "id": "k-_h0b5b4eki"
   },
   "cell_type": "code",
   "source": "# TODO: what are the other features where a missing value indicates some sample property?",
   "outputs": [],
   "execution_count": null
  },
  {
   "cell_type": "markdown",
   "source": [
    "Fill in with mean:"
   ],
   "metadata": {
    "id": "jsxXj_Gy42XG"
   }
  },
  {
   "cell_type": "code",
   "source": [
    "df['Year'] = df['Year'].fillna(int(df['Year'].mean(numeric_only=True)))\n",
    "df"
   ],
   "metadata": {
    "id": "Iga7cV1V453p"
   },
   "outputs": [],
   "execution_count": null
  },
  {
   "cell_type": "markdown",
   "source": [
    "Remove rows with missing value(s):"
   ],
   "metadata": {
    "id": "sJ78XAho5Uk9"
   }
  },
  {
   "cell_type": "code",
   "source": [
    "df = df.dropna(subset=['Alma Mater'], how='all')\n",
    "df"
   ],
   "metadata": {
    "id": "b9Oqmcsn414P"
   },
   "outputs": [],
   "execution_count": null
  },
  {
   "cell_type": "markdown",
   "source": "## 2. Feature manipulation:",
   "metadata": {}
  },
  {
   "cell_type": "code",
   "source": [
    "df_transformed = df.copy()"
   ],
   "metadata": {
    "id": "ZevZ0n7f7IBq",
    "ExecuteTime": {
     "end_time": "2024-11-22T13:24:55.719842Z",
     "start_time": "2024-11-22T13:24:55.716386Z"
    }
   },
   "outputs": [],
   "execution_count": 27
  },
  {
   "metadata": {
    "id": "Ug6B7OK0RAoO"
   },
   "cell_type": "markdown",
   "source": [
    "\n",
    "#### Categorical features encoding:"
   ]
  },
  {
   "cell_type": "markdown",
   "source": "Example - encoding the `Status` feature with One Hot Encoding:",
   "metadata": {
    "id": "-xXlT4Z2BRqh"
   }
  },
  {
   "cell_type": "code",
   "source": "df_transformed['Status'].value_counts()",
   "metadata": {
    "id": "x1PbPhMiBEK1"
   },
   "outputs": [],
   "execution_count": null
  },
  {
   "cell_type": "code",
   "source": [
    "ohe_status = pd.get_dummies(df_transformed[['Status']])\n",
    "df_transformed = df_transformed.join(ohe_status)\n",
    "df_transformed"
   ],
   "metadata": {
    "id": "Dex2v4Av_Pz1"
   },
   "outputs": [],
   "execution_count": null
  },
  {
   "cell_type": "markdown",
   "source": "What else can we handle the same way?",
   "metadata": {
    "id": "b6YBJlnHB4gq"
   }
  },
  {
   "cell_type": "code",
   "source": "# TODO",
   "metadata": {
    "id": "1LRFaF1B_P2a"
   },
   "outputs": [],
   "execution_count": null
  },
  {
   "cell_type": "markdown",
   "source": [
    "What about features with more distinct values?"
   ],
   "metadata": {
    "id": "MYMjDJ8BCMXF"
   }
  },
  {
   "cell_type": "code",
   "source": [
    "df_transformed['Graduate Major'].value_counts()"
   ],
   "metadata": {
    "id": "L8K77KZ4CPZW"
   },
   "outputs": [],
   "execution_count": null
  },
  {
   "cell_type": "code",
   "source": [
    "# TODO: look at other categorical features and come up with a way of encoding their values"
   ],
   "metadata": {
    "id": "2J-iUmL__P4-",
    "ExecuteTime": {
     "end_time": "2024-11-22T13:26:33.883114Z",
     "start_time": "2024-11-22T13:26:33.880691Z"
    }
   },
   "outputs": [],
   "execution_count": 32
  },
  {
   "cell_type": "markdown",
   "source": [
    "Binning of `Graduate Major`s based on simple key words:"
   ],
   "metadata": {
    "id": "CYx8QXh0CrKI"
   }
  },
  {
   "cell_type": "code",
   "source": [
    "def get_superior_category(major_str):\n",
    "    if pd.isna(major_str):\n",
    "        return 'None'\n",
    "    if 'engineer' in major_str.lower():\n",
    "        return 'Engineering'\n",
    "    elif 'bio' in major_str.lower() or 'science' in major_str.lower() or 'astro' in major_str.lower() or 'physics' in major_str.lower() or 'math' in major_str.lower() or 'inf' in major_str.lower():\n",
    "        return 'Science'\n",
    "    elif 'med' in major_str.lower() or 'doctor' in major_str.lower() or 'health' in major_str.lower():\n",
    "        return 'Medicine'\n",
    "    elif 'business' in major_str.lower() or 'management' in major_str.lower():\n",
    "        return 'Business'\n",
    "    return 'Different'\n",
    "\n",
    "df_transformed['Graduate Major'] = df_transformed.apply(lambda row: get_superior_category(row['Graduate Major']), axis=1)\n",
    "df_transformed['Graduate Major'].value_counts()"
   ],
   "metadata": {
    "id": "yLiFEOUKCuFu"
   },
   "outputs": [],
   "execution_count": null
  },
  {
   "cell_type": "code",
   "source": [
    "ohe_grad_df = pd.get_dummies(df_transformed[['Graduate Major']])\n",
    "df_transformed = df_transformed.join(ohe_grad_df)\n",
    "df_transformed"
   ],
   "metadata": {
    "id": "ABEwrLjJFqvH"
   },
   "outputs": [],
   "execution_count": null
  },
  {
   "cell_type": "markdown",
   "source": [
    "## 4. Dimensionality reduction\n",
    "\n",
    "#### PCA:"
   ],
   "metadata": {
    "id": "uyiIuLDI7SgG"
   }
  },
  {
   "metadata": {},
   "cell_type": "code",
   "source": [
    "# boolean variables to int\n",
    "df_transformed = df_transformed.apply(lambda col: col.astype(int) if col.dtypes == 'bool' else col)\n",
    "# select only numerical features\n",
    "df_numerical = df_transformed.select_dtypes(include='number')\n",
    "df_numerical"
   ],
   "outputs": [],
   "execution_count": null
  },
  {
   "cell_type": "code",
   "source": [
    "from sklearn.decomposition import PCA\n",
    "\n",
    "pca = PCA(n_components=2)\n",
    "components = pca.fit_transform(df_numerical)\n",
    "\n",
    "# join the PCA info with our original df:\n",
    "components = pd.DataFrame(components)\n",
    "df_transformed['PCA 0'] = components[0]\n",
    "df_transformed['PCA 1'] = components[1]"
   ],
   "metadata": {
    "id": "pqrPU3yz7TIu"
   },
   "outputs": [],
   "execution_count": null
  },
  {
   "cell_type": "code",
   "source": [
    "import plotly.express as px\n",
    "\n",
    "def show_reduced_dimensions_interactive(color_column, x='PCA 0', y='PCA 1'):\n",
    "  fig = px.scatter(df_transformed,\n",
    "                  x=x,\n",
    "                  y=y,\n",
    "                  color=color_column,\n",
    "                  hover_name='Name',\n",
    "                  hover_data=['Year', 'Group', 'Status', 'Birth Date',\n",
    "                              'Birth Place', 'Gender', 'Alma Mater',\n",
    "                              'Undergraduate Major', 'Graduate Major',\n",
    "                              'Military Rank', 'Military Branch',\n",
    "                              'Space Flights', 'Space Flight (hr)',\n",
    "                              'Space Walks', 'Space Walks (hr)', 'Missions',\n",
    "                              'Death Date', 'Death Mission']\n",
    "                  )\n",
    "  fig.show()"
   ],
   "metadata": {},
   "outputs": [],
   "execution_count": null
  },
  {
   "metadata": {},
   "cell_type": "markdown",
   "source": "We can color the PCA based on different features: "
  },
  {
   "metadata": {
    "id": "zSIyPQIZ7Yi_"
   },
   "cell_type": "code",
   "source": "show_reduced_dimensions_interactive('Gender')",
   "outputs": [],
   "execution_count": null
  },
  {
   "cell_type": "code",
   "source": "show_reduced_dimensions_interactive('Military Rank')",
   "metadata": {
    "id": "uRV4idQf_G11"
   },
   "outputs": [],
   "execution_count": null
  }
 ]
}
