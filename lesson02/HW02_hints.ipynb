{
 "cells": [
  {
   "cell_type": "code",
   "execution_count": 26,
   "id": "e5163436-fcca-4ae4-8eaf-6755790380e5",
   "metadata": {},
   "outputs": [],
   "source": [
    "# run only once\n",
    "!pip install duckduckgo_search"
   ]
  },
  {
   "cell_type": "markdown",
   "id": "c1dabf75",
   "metadata": {},
   "source": [
    "## How to search for images"
   ]
  },
  {
   "cell_type": "code",
   "execution_count": 2,
   "id": "d8a87803-eb5a-4e72-9724-e86b268b1a7b",
   "metadata": {},
   "outputs": [],
   "source": [
    "from duckduckgo_search import DDGS\n",
    "\n",
    "def search_images(keyword, max_results=10):\n",
    "    with DDGS() as ddgs:\n",
    "        images = ddgs.images(\n",
    "            keyword,\n",
    "            max_results=max_results\n",
    "        )\n",
    "        return [img['image'] for img in images]"
   ]
  },
  {
   "cell_type": "markdown",
   "id": "e486a04c",
   "metadata": {},
   "source": [
    "**Example:**\n",
    "\n",
    "Note we got less images than we asked for."
   ]
  },
  {
   "cell_type": "code",
   "execution_count": 7,
   "id": "77f11575-f03b-4a7f-9144-6e11cc5347df",
   "metadata": {},
   "outputs": [
    {
     "data": {
      "text/plain": [
       "418"
      ]
     },
     "execution_count": 7,
     "metadata": {},
     "output_type": "execute_result"
    }
   ],
   "source": [
    "keyword = \"teddybear\"\n",
    "image_urls = search_images(keyword, 1000)\n",
    "len(image_urls)"
   ]
  },
  {
   "cell_type": "markdown",
   "id": "52daecb0",
   "metadata": {},
   "source": [
    "Let us take a random image and look at it:"
   ]
  },
  {
   "cell_type": "code",
   "execution_count": 8,
   "id": "01aaa328-6d23-4792-976a-e379ad047afe",
   "metadata": {},
   "outputs": [
    {
     "data": {
      "text/plain": [
       "'https://i.etsystatic.com/23408950/r/il/4ed2a5/3977829066/il_fullxfull.3977829066_f608.jpg'"
      ]
     },
     "execution_count": 8,
     "metadata": {},
     "output_type": "execute_result"
    }
   ],
   "source": [
    "image_urls[123]"
   ]
  },
  {
   "cell_type": "markdown",
   "id": "024ab0f1",
   "metadata": {},
   "source": [
    "![](https://i.etsystatic.com/23408950/r/il/4ed2a5/3977829066/il_fullxfull.3977829066_f608.jpg)"
   ]
  },
  {
   "cell_type": "markdown",
   "id": "3eca2401",
   "metadata": {},
   "source": [
    "## How to download images"
   ]
  },
  {
   "cell_type": "code",
   "execution_count": 18,
   "id": "c95ce62e-2194-48ff-b7db-d15c335fcbeb",
   "metadata": {},
   "outputs": [],
   "source": [
    "import os\n",
    "import requests\n",
    "from urllib.parse import urlparse\n",
    "import warnings\n",
    "\n",
    "def download_image(url, folder, custom_name=None, verbose=True):\n",
    "    # Create the folder if it doesn't exist\n",
    "    os.makedirs(folder, exist_ok=True)\n",
    "\n",
    "    # Get the filename from the URL or use the custom name\n",
    "    if custom_name:\n",
    "        filename = custom_name\n",
    "    else:\n",
    "        filename = os.path.basename(urlparse(url).path)\n",
    "        if not filename:\n",
    "            filename = 'image.jpg'  # Default filename if none is found in the URL\n",
    "\n",
    "    # Ensure the filename has an extension\n",
    "    if not os.path.splitext(filename)[1]:\n",
    "        filename += '.jpg'\n",
    "\n",
    "    filepath = os.path.join(folder, filename)\n",
    "\n",
    "    # If the file already exists, append a number to make it unique\n",
    "    base, extension = os.path.splitext(filepath)\n",
    "    counter = 1\n",
    "    while os.path.exists(filepath):\n",
    "        filepath = f\"{base}_{counter}{extension}\"\n",
    "        counter += 1\n",
    "\n",
    "    try:\n",
    "        # Send a GET request to the URL with a timeout of 10 seconds\n",
    "        response = requests.get(url, timeout=10)\n",
    "        response.raise_for_status()  # Raises an HTTPError for bad responses\n",
    "\n",
    "        # Check if the content type is an image\n",
    "        content_type = response.headers.get('content-type', '')\n",
    "        if not content_type.startswith('image'):\n",
    "            if verbose:\n",
    "                warnings.warn(f\"The URL does not point to an image. Content-Type: {content_type}\")\n",
    "            return False\n",
    "\n",
    "        # Write the image content to the file\n",
    "        with open(filepath, 'wb') as f:\n",
    "            f.write(response.content)\n",
    "\n",
    "        if verbose:\n",
    "            print(f\"Image successfully downloaded: {filepath}\")\n",
    "        return True\n",
    "\n",
    "    except requests.exceptions.Timeout:\n",
    "        if verbose: \n",
    "            warnings.warn(f\"Download timed out for URL: {url}\")\n",
    "    except requests.exceptions.HTTPError as e:\n",
    "        if verbose: \n",
    "            warnings.warn(f\"HTTP error occurred: {e}\")\n",
    "    except requests.exceptions.RequestException as e:\n",
    "        if verbose: \n",
    "            warnings.warn(f\"An error occurred while downloading the image: {e}\")\n",
    "    except IOError as e:\n",
    "        if verbose: \n",
    "            warnings.warn(f\"An error occurred while writing the file: {e}\")\n",
    "\n",
    "    return False"
   ]
  },
  {
   "cell_type": "markdown",
   "id": "0387ac4b",
   "metadata": {},
   "source": [
    "Let us donwload all teddybears into separate folder."
   ]
  },
  {
   "cell_type": "code",
   "execution_count": 20,
   "id": "91e85251-0074-4c49-9118-03c754a02805",
   "metadata": {},
   "outputs": [
    {
     "data": {
      "application/vnd.jupyter.widget-view+json": {
       "model_id": "0bc3203363c84d30952e5af7516186d2",
       "version_major": 2,
       "version_minor": 0
      },
      "text/plain": [
       "  0%|          | 0/418 [00:00<?, ?it/s]"
      ]
     },
     "metadata": {},
     "output_type": "display_data"
    }
   ],
   "source": [
    "from tqdm.notebook import tqdm\n",
    "\n",
    "for i, url in enumerate(tqdm(image_urls)):\n",
    "    download_image(url, \"./dataset/teddybear/\", f'image{i}.jpg', verbose=False)"
   ]
  },
  {
   "cell_type": "markdown",
   "id": "39f30d48",
   "metadata": {},
   "source": [
    "## How to resize all images to 28x28"
   ]
  },
  {
   "cell_type": "code",
   "execution_count": null,
   "id": "707ed085-6536-489a-a4f5-5625407d0a02",
   "metadata": {},
   "outputs": [],
   "source": [
    "# ...\n",
    "from torchvision import datasets, transforms\n",
    "# ...\n",
    "\n",
    "# Data transformations\n",
    "transform = transforms.Compose([\n",
    "    transforms.Resize((28, 28)),\n",
    "    transforms.ToTensor(),\n",
    "])\n",
    "\n",
    "# Load the dataset\n",
    "dataset = datasets.ImageFolder(root='./dataset', transform=transform)"
   ]
  },
  {
   "cell_type": "markdown",
   "id": "7b64d60b",
   "metadata": {},
   "source": [
    "Do not forget the images are RGB, not greyscale as FashionMNIST. Therefore, they will have **three** channels on input, not one."
   ]
  },
  {
   "cell_type": "code",
   "execution_count": null,
   "id": "97924280",
   "metadata": {},
   "outputs": [],
   "source": [
    "# Define the simple CNN\n",
    "class SimpleCNN(nn.Module):\n",
    "    def __init__(self):\n",
    "        super(SimpleCNN, self).__init__()\n",
    "        # Input channels = 3 (RGB), output channels = 16\n",
    "        self.conv1 = nn.Conv2d(3, 16, kernel_size=3, padding=1)\n",
    "        # ..."
   ]
  },
  {
   "cell_type": "markdown",
   "id": "197f9661",
   "metadata": {},
   "source": []
  }
 ],
 "metadata": {
  "kernelspec": {
   "display_name": "Python 3",
   "language": "python",
   "name": "python3"
  },
  "language_info": {
   "codemirror_mode": {
    "name": "ipython",
    "version": 3
   },
   "file_extension": ".py",
   "mimetype": "text/x-python",
   "name": "python",
   "nbconvert_exporter": "python",
   "pygments_lexer": "ipython3",
   "version": "3.10.10"
  }
 },
 "nbformat": 4,
 "nbformat_minor": 5
}
